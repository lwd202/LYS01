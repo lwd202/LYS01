{
 "cells": [
  {
   "cell_type": "markdown",
   "metadata": {},
   "source": [
    "# Assignment 2"
   ]
  },
  {
   "cell_type": "markdown",
   "metadata": {},
   "source": [
    "## 1. 다음 6 개의 Expression에 대해 Evaluation 결과 값을 출력하고, 해당 결과가 나온 이유에 대해 설명하시오"
   ]
  },
  {
   "cell_type": "markdown",
   "metadata": {},
   "source": [
    "◾1 and 2 and 3 and 4 ◾1 or 2 or 3 or 4 ◾1 and 2 or 3 and 4 ◾(1 and 2) or (3 and 4) ◾1 or 2 and 3 or 4 ◾(1 or 2) and (3 or 4)"
   ]
  },
  {
   "cell_type": "code",
   "execution_count": 2,
   "metadata": {},
   "outputs": [
    {
     "name": "stdout",
     "output_type": "stream",
     "text": [
      "4\n",
      "1\n",
      "2\n",
      "2\n",
      "1\n",
      "3\n"
     ]
    }
   ],
   "source": [
    "print (1 and 2 and 3 and 4)\n",
    "print (1 or 2 or 3 or 4)\n",
    "print (1 and 2 or 3 and 4)\n",
    "print ((1 and 2) or (3 and 4))\n",
    "print (1 or 2 and 3 or 4)\n",
    "print ((1 or 2) and (3 or 4))"
   ]
  },
  {
   "cell_type": "markdown",
   "metadata": {},
   "source": [
    "◾ 1 and 2 = true true and 3 = true true and 4 가 true이므로 4가 출력된다 \n",
    "\n",
    "◾ 1 or 2 = false 이므로 뒤에를 보지 않고 바로 1이 출력된다. \n",
    "\n",
    "◾ 1 and 2 = true true or 3 = false 이므로 뒤를 보지않고 2를 출력된다. \n",
    "\n",
    "◾ (1 and 2) 와 (3 and 4)가 모두 true 이고 true or true = false 이므로 앞의 2가 출력된다. \n",
    "\n",
    "◾ 1 or 2 = false 이므로 뒤를 보지않고 1이 출력된다. \n",
    "\n",
    "◾ (1 or 2)와 (3 or 4) 가 모두 false 이고 false and false = flase 이므로 뒤의 3이 출력된다."
   ]
  },
  {
   "cell_type": "markdown",
   "metadata": {},
   "source": [
    "## 2. 경로에 해당하는 문자열 1개를 입력 받아 그 안에 디렉토리 경로명과 파일명을 분리하여 리스트로 반환하는 함수 div_path(s)를 작성하시오."
   ]
  },
  {
   "cell_type": "markdown",
   "metadata": {},
   "source": [
    "◾인자로 전달하는 문자열은 경로만 들어간다고 가정한다.\n",
    "\n",
    "◾각 디렉토리와 파일을 구분하는 문자는 '/'로 가정한다.\n",
    "\n",
    "◾반환하는 리스트의 첫번째 원소는 디렉토리이고 두번째 원소는 파일명이다.\n",
    "\n",
    "◾다음과 같은 실행 및 출력 결과가 도출되어야 한다.\n",
    "\n",
    "    div_path('/usr/local/bin/python')\n",
    "\n",
    "    ['/usr/local/bin', 'python']\n",
    "\n",
    "    div_path('/home/chulsoo/test.txt')\n",
    "\n",
    "    ['/home/chulsoo', 'test.txt']\n",
    "\n",
    "◾[참고] 리스트(l) 내에 새로운 정수값 (예를 들어 10)을 넣는 방법은 l.append(10) 이다."
   ]
  },
  {
   "cell_type": "code",
   "execution_count": 20,
   "metadata": {},
   "outputs": [
    {
     "name": "stdout",
     "output_type": "stream",
     "text": [
      "String : /usr/local/bin/python\n",
      "['/usr/local/bin/', 'python']\n",
      "String : /home/chulsoo/test.txt\n",
      "['/home/chulsoo/', 'test.txt']\n"
     ]
    }
   ],
   "source": [
    "def div_path(s):\n",
    "    s1 = s.split('/')\n",
    "    x = 0\n",
    "    y = 0\n",
    "    temp = []\n",
    "    while x < len(s1):\n",
    "        temp.append(s1[x]) \n",
    "        x = x + 1\n",
    "    out = ['','']\n",
    "    for y in range(len(s1)-1):\n",
    "        out[0] = out[0] + s1[y] + '/'\n",
    "    out[1] = s1[len(s1)-1]\n",
    "    print (out)\n",
    "    \n",
    "t1 = input(\"String : \")\n",
    "div_path(t1)\n",
    "t2 = input(\"String : \")\n",
    "div_path(t2)"
   ]
  },
  {
   "cell_type": "markdown",
   "metadata": {},
   "source": [
    "## 3. 두 개의 리스트를 인자로 받아서 그 두 개의 리스트에 대한 '합집합'을 반환하는 함수 list_union(lista, listb)를 작성하시오."
   ]
  },
  {
   "cell_type": "markdown",
   "metadata": {},
   "source": [
    "◾인자로 전달하는 리스트 2 개에는 정수값만 들어간다고 가정하자.\n",
    "\n",
    "◾함수 내에서 새로운 리스트를 만들어 그 리스트 내에 인자로 받은 두 리스트의 모든 원소를 넣어 반환한다.\n",
    "\n",
    "◾반환하는 리스트에는 절대로 중복된 원소가 들어 있으면 안된다 (집합의 조건).\n",
    "\n",
    "◾반환하는 리스트는 정렬이 되어 있어야 한다.\n",
    "\n",
    "◾다음과 같은 실행 및 출력 결과가 도출되어야 한다.\n",
    "\n",
    "list_union([1, 2, 3], [1, 2, 4])\n",
    "\n",
    "[1, 2, 3, 4]\n",
    "\n",
    "list_union([-10, -5, 0, -1], [100, 9, 0, 9])\n",
    "\n",
    "[-10, -5, -1, 0, 9, 100]\n",
    "\n",
    "list_union([0, 1, 2], [0, 1, 2])\n",
    "\n",
    "[0, 1, 2]\n",
    "\n",
    "◾[참고] 리스트(l) 내에 새로운 정수값 (예를 들어 10)을 넣는 방법은 l.append(10) 이다.\n",
    "\n",
    "◾[참고] 임의의 정수값 (x)이 리스트 (l) 내에 존재하는지 판단하는 방법은 x in l 이다."
   ]
  },
  {
   "cell_type": "code",
   "execution_count": 11,
   "metadata": {},
   "outputs": [
    {
     "name": "stdout",
     "output_type": "stream",
     "text": [
      "[-50, -2, 1, 3, 4, 50, 100, 300, 1000]\n"
     ]
    }
   ],
   "source": [
    "def list_union(lista, listb):\n",
    "    listout = []\n",
    "    x = 0\n",
    "    y = 0\n",
    "    for x in range(len(lista)):\n",
    "        if lista[x] in listout:\n",
    "            x = x + 1\n",
    "        else:\n",
    "            listout.append(lista[x])\n",
    "            x = x + 1\n",
    "    for y in range(len(listb)):\n",
    "        if listb[y] in listout:\n",
    "            y = y + 1\n",
    "        else:\n",
    "            listout.append(listb[y])\n",
    "            y = y + 1\n",
    "    listout.sort()\n",
    "    print (listout)\n",
    "    \n",
    "list1 = [1,-2,300,-50,1000,4]\n",
    "list2 = [3,1,50,300,-2,100]\n",
    "\n",
    "list_union(list1,list2)"
   ]
  },
  {
   "cell_type": "markdown",
   "metadata": {},
   "source": [
    "## 4. [Incremental Project] 웹 URL로 지정된 웹페이지를 문자열로 가져와 1) 모든 HTML 태그를 제외한 순수 텍스트 문자열만을 걸러내고, 2) 그 순수 텍스트 문자열 안에 존재하는 단어가 총 몇개인지 출력하는 프로그램을 작성하시오."
   ]
  },
  {
   "cell_type": "markdown",
   "metadata": {},
   "source": [
    "◾HTML 태그는 다음 조건을 가지는 것이다.\n",
    "\n",
    "    < 로 시작하여 >로 끝난다.\n",
    "\n",
    "    예를 들어, 아래와 같은 HTML 내용 내에 한 줄이 있다고 가정하자.\n",
    "\n",
    "        <label for=\"keep_signed\">로그인 유지</label>\n",
    "\n",
    "    위 소스에서 HTML 태그를 제외한 순수 텍스트 문자열은 아래와 같다.\n",
    "\n",
    "        로그인 유지\n",
    "\n",
    "    한편, 아래와 같은 HTML 한 줄이 있다고 가정하자.\n",
    "\n",
    "        <link rel=\"stylesheet\" href=\"/common/css/xe.min.css?20150910092654\" />\n",
    "\n",
    "    위 소스는 HTML 태그로만 구성된 것이며 걸러낼 수 있는 순수 텍스 문자열은 존재하지 않는다.\n",
    "\n",
    "◾단어를 나누는 기준은 오로지 공백문자 (whitespace)이다.\n",
    "\n",
    "    즉, 위 순수 텍스트 문자열인 \"로그인 유지\"에서 분리한 단어는 \"로그인\"과 \"유지\"이다.\n",
    "\n",
    "◾중복을 고려하지 않고 무조건 모든 단어의 개수를 세어서 출력한다.\n",
    "\n",
    "◾본 숙제를 위하여 HTML 파싱과 관련된 모듈 (예. BeautifulSoup) 사용 금지\n",
    "\n",
    "◾다음은 URL로 지정된 웹페이지를 특정 문자열로 가져오는 코드이다.\n",
    "\n",
    "    즉, 숙제 코드는 아래 코드로 부터 시작해야 한다.\n"
   ]
  },
  {
   "cell_type": "code",
   "execution_count": 23,
   "metadata": {},
   "outputs": [
    {
     "name": "stdout",
     "output_type": "stream",
     "text": [
      "<HTML 태그를 모두 제거한 문자열>\n",
      "\n",
      "컴퓨터공학부 Schoolfun - Study and Fun 로그인 로그인 아이디 비밀번호 로그인 유지 브라우저를 닫더라도 로그인이 계속 유지될 수 있습니다. 로그인 유지 기능을 사용할 경우 다음 접속부터는 로그인할 필요가 없습니다. 단, 게임방, 학교 등 공공장소에서 이용 시 개인정보가 유출될 수 있으니 꼭 로그아웃을 해주세요. 회원가입 ID/PW 찾기 IT 교육의 글로벌 메카! 한국기술교육대학교 컴퓨터공학부 Close 소개 구성원소개 학사안내 입학 학부 대학원 학부광장 자료실 대학원 공학교육인증 학부서비스 Registration 컴퓨터공학부 School of Computer Science and Engineering IT 융합소프트웨어 인력양성사업 CK (Creative Korea)-I 교육역량강화사업 온라인 컨텐츠 Online Contents for Education Capability Empowerment IT 교육의 글로벌 메카 한국기술교육대학교 컴퓨터공학부 홈페이지에 오신 것을 환영합니다! IT 융합소프트웨어 인력양성사업 글로벌 수준의 IT전문인력 양성 IT융합분야에 대한 국제적인 경쟁력 고취 바로가기 교육역량강화사업 컨텐츠 교육역량강화사업 온라인 컨텐츠를 소개합니다. 바로가기 공지사항 2017년 졸업작품 영어발표 경진대회 및 공학설계 아이... 2017-10-11 09:24 09:24 [특성화] 2017 IT융합 프로그래밍 경시대회 모집 공고 2017-10-10 15:49 15:49 [특성화] ICTS 2017 중국 전시회 선발학생 공고 2017-09-28 10:18 10:18 [특성화] KES 2017 전시회 선발학생 공고 2017-09-27 15:20 15:20 [졸업작품 전시회 참가자 필독] 2017년 졸업작품 전시... 2017-09-27 13:24 13:24 자유게시판 제6회 레몬 정보보호 세미나 개최 2017-10-06 23:40 23:40 예비역 훈련 및 뒤풀이 공지! 2017-09-19 21:16 21:16 모의토익비를 지원해드립니다.^^ 2017-09-17 20:08 20:08 4공학관 B동 입구 담배피우는 문제로 글을 올립니다. 2017-09-11 22:13 22:13 학술소모임 씨앗(Seed)에서 신입 회원 모집 및 개강총... 2017-09-05 15:46 15:46 취업게시판 [천안] (주)ABB코리아 채용 공고문 - 로봇사업부 채용(... 2017-09-29 11:29 11:29 영풍전자(주) - [안산]_직무별[제조기술/품질/개발/마... 2017-09-25 10:04 10:04 [용인-수원(내년 통합예정)] ㈜라온옵틱스 신입, 경력... 2017-09-25 09:21 09:21 엑시콘 산학공동연구소 연구원 모집(~9/18) 2017-09-08 13:46 13:46 [서울] 에이치투오시스템테크놀로지(주) IT개발 및 마... 2017-09-04 17:35 17:35 Platum [현장] 네이버, ‘일상생활 환경 모두 연결하겠다’ 2017-10-16 10:24 10:24 Videogame developer Bluehole’s chairman recognized ... 2017-10-16 09:57 09:57 Interview: The secret behind the fashion startup St... 2017-10-16 09:52 09:52 네이버는 쇼핑, 다음은 뉴스, 구글은 검색 2017-10-16 09:45 09:45 카카오택시, ‘카카오T’ 로 리브랜딩 2017-10-16 09:22 09:22 전자신문 '아이폰8 플러스' 푸틴 대통령 한정판 에디션 등장 2017-10-16 19:23 19:23 세계 점유율 늘어난 애플 iOS… 英·日서는 역행 2017-10-16 18:43 18:43 47개 기관 통신망 통합하는 '국가융합망' 보안 논... 2017-10-16 17:00 17:00 5G 주파수 할당방식 논쟁 본격화 2017-10-16 17:00 17:00 KT-삼성전자, NB-IoT 기반 '커넥트 태그' 2017-10-16 16:22 16:22 TechCrunch Apple denied motions in VirnetX patent case, s... 2017-10-16 23:44 23:44 The CoD: WWII live action trailer is out 2017-10-16 22:57 22:57 We Heart It says a data breach affected over 8... 2017-10-16 22:49 22:49 Watch Wakanda come to life in Marvel’s new ‘Bl... 2017-10-16 22:48 22:48 DxO One camera for Android on the way, new acc... 2017-10-16 22:00 22:00 Back to Top Leading Together  for Brighter Future Quick Navigation 한국기술교육대학교 홈페이지 한국기술교육대학교 WEBMAIL 한국기술교육대학교 온라인 평생교육원 IT 융합소프트웨어 인력양성사업 컴퓨터공학부 교직원 업무 자료실 컴퓨터공학부 포트폴리오 Campus Location Contact CSE 충청남도 천안시 동남구 병천면 충절로 1600 한국기술교육대학교 컴퓨터공학부 학과사무실  TEL (041) 560 1460 ~ 1461 FAX (041) 560 1462 Facebook Twitter Google Plus Linkedin (31253) 충청남도 천안시 동남구 병천면 충절로 1600 (가전리, 한국기술교육대학교) 컴퓨터공학부  Copyright © 2015. All rights reserved \n",
      "단어의 수 : \n",
      "473 개\n"
     ]
    }
   ],
   "source": [
    "from urllib import request \n",
    "\n",
    "url = 'http://cse.koreatech.ac.kr'\n",
    "f = request.urlopen(url)\n",
    "source_bytes = f.read()\n",
    "source = source_bytes.decode('utf-8')\n",
    "\n",
    "#print(type(source_bytes))\n",
    "#print(type(source))\n",
    "\n",
    "#print(source)\n",
    "\n",
    "string1 = ''\n",
    "string2 = ''\n",
    "string3 = ''\n",
    "\n",
    "l = []\n",
    "r = []\n",
    "k = []\n",
    "p = []\n",
    "\n",
    "for line in source.splitlines():\n",
    "    line = line.lstrip()\n",
    "    for word in line:\n",
    "        if word == '<':\n",
    "            string1 += '\\n'\n",
    "        string1 += word\n",
    "        if word == '>':\n",
    "            string1 += '\\n'\n",
    "        \n",
    "for line in string1.splitlines():\n",
    "    line = line.lstrip()\n",
    "    for word in line:\n",
    "        string2 += word\n",
    "    l.append(string2)\n",
    "    string2 = ''\n",
    "\n",
    "for x in range(0,len(l)):\n",
    "    if l[x] != '':\n",
    "        r.append(l[x])\n",
    "\n",
    "for x in range(0,len(r)):\n",
    "    if (r[x][0] == '<') or (r[x][0] == '/') or (r[x][0] == '-'):\n",
    "        r[x] = ''\n",
    "        \n",
    "for x in range(0,len(r)):\n",
    "    if r[x] != '':\n",
    "        k.append(r[x])\n",
    "        \n",
    "for x in range(0,len(k)):\n",
    "    string3 += k[x]\n",
    "    string3 += ' '\n",
    "\n",
    "p = string3.split()\n",
    "\n",
    "print (\"<HTML 태그를 모두 제거한 문자열>\")\n",
    "print ()\n",
    "print (string3)\n",
    "print (\"단어의 수 : \",)\n",
    "print (len(p), \"개\")"
   ]
  },
  {
   "cell_type": "markdown",
   "metadata": {},
   "source": [
    "## 5. [ACM-ICPC 문제 1110번]"
   ]
  },
  {
   "cell_type": "markdown",
   "metadata": {},
   "source": [
    "◾더하기 사이클"
   ]
  },
  {
   "cell_type": "code",
   "execution_count": 7,
   "metadata": {},
   "outputs": [
    {
     "name": "stdout",
     "output_type": "stream",
     "text": [
      "26\n",
      "4\n"
     ]
    }
   ],
   "source": [
    "num = int(input())\n",
    "cnt=1\n",
    "chk = num\n",
    "while 1:    \n",
    "    a = num/10\n",
    "    b = int(num%10)\n",
    "    c = int(a + b)\n",
    "    num = (b*10) + (c%10)\n",
    "       \n",
    "    if(num==chk):\n",
    "        break\n",
    "    else:\n",
    "        cnt=cnt+1\n",
    "print(cnt)"
   ]
  },
  {
   "cell_type": "code",
   "execution_count": 9,
   "metadata": {},
   "outputs": [
    {
     "data": {
      "image/png": "[encoded data removed]",
      "text/plain": [
       "<IPython.core.display.Image object>"
      ]
     },
     "execution_count": 9,
     "metadata": {},
     "output_type": "execute_result"
    }
   ],
   "source": [
    "from IPython.display import Image\n",
    "Image(filename='capLYS.PNG')"
   ]
  },
  {
   "cell_type": "markdown",
   "metadata": {},
   "source": [
    "Incremental Project 를 해결하면서 굉장히 어려웠지만, 지금껏 배운 파이썬의 문법을 처음부터 다시 한번 복습하게 되었고 \n",
    "많은 생각을 할 수 있어서 파이썬 코딩능력 향상에 도움이 된 것 같습니다."
   ]
  }
 ],
 "metadata": {
  "kernelspec": {
   "display_name": "Python 3",
   "language": "python",
   "name": "python3"
  },
  "language_info": {
   "codemirror_mode": {
    "name": "ipython",
    "version": 3
   },
   "file_extension": ".py",
   "mimetype": "text/x-python",
   "name": "python",
   "nbconvert_exporter": "python",
   "pygments_lexer": "ipython3",
   "version": "3.6.1"
  }
 },
 "nbformat": 4,
 "nbformat_minor": 2
}
